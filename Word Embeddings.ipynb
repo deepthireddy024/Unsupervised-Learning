{
 "cells": [
  {
   "cell_type": "code",
   "execution_count": 1,
   "id": "437ada31",
   "metadata": {},
   "outputs": [],
   "source": [
    "from nltk.corpus import brown\n",
    "from nltk.corpus import stopwords\n",
    "import re\n",
    "from collections import Counter\n",
    "import math\n",
    "import random"
   ]
  },
  {
   "cell_type": "code",
   "execution_count": 2,
   "id": "2e0ad997",
   "metadata": {},
   "outputs": [],
   "source": [
    "stop_words = set(stopwords.words('english'))"
   ]
  },
  {
   "cell_type": "code",
   "execution_count": 3,
   "id": "76804617",
   "metadata": {},
   "outputs": [],
   "source": [
    "data = list(brown.words())"
   ]
  },
  {
   "cell_type": "code",
   "execution_count": 4,
   "id": "9381fb92",
   "metadata": {},
   "outputs": [
    {
     "data": {
      "text/plain": [
       "1161192"
      ]
     },
     "execution_count": 4,
     "metadata": {},
     "output_type": "execute_result"
    }
   ],
   "source": [
    "len(data)"
   ]
  },
  {
   "cell_type": "code",
   "execution_count": 5,
   "id": "d2938b23",
   "metadata": {},
   "outputs": [],
   "source": [
    "def process(word):\n",
    "    w = word.lower()\n",
    "    w = re.sub(r'[^\\w\\s]', '', w)\n",
    "    if w in stop_words:\n",
    "        return ''\n",
    "    return w"
   ]
  },
  {
   "cell_type": "code",
   "execution_count": 6,
   "id": "e5b923c8",
   "metadata": {},
   "outputs": [
    {
     "data": {
      "text/plain": [
       "539921"
      ]
     },
     "execution_count": 6,
     "metadata": {},
     "output_type": "execute_result"
    }
   ],
   "source": [
    "ls = [process(i) for i in data]\n",
    "ls = [i for i in ls if i!='']\n",
    "len(ls)"
   ]
  },
  {
   "cell_type": "code",
   "execution_count": 7,
   "id": "709a0e10",
   "metadata": {},
   "outputs": [],
   "source": [
    "cnt = Counter(ls)\n",
    "V = [i[0] for i in cnt.most_common(5000)]\n",
    "C = [i[0] for i in cnt.most_common(1000)]"
   ]
  },
  {
   "cell_type": "code",
   "execution_count": 8,
   "id": "95cd3d7b",
   "metadata": {},
   "outputs": [],
   "source": [
    "N = len(ls)\n",
    "prcw = [[0]*len(C) for i in range(len(V))]\n",
    "for i in range(N):\n",
    "    if not ls[i] in V: continue\n",
    "    row = V.index(ls[i])\n",
    "        \n",
    "    if(i-2>=0 and ls[i-2] in C):\n",
    "        col = C.index(ls[i-2])\n",
    "        prcw[row][col] += 1\n",
    "    \n",
    "    if(i-1>=0 and ls[i-1] in C):\n",
    "        col = C.index(ls[i-1])\n",
    "        prcw[row][col] += 1\n",
    "        \n",
    "    if(i+1<N and ls[i+1] in C):\n",
    "        col = C.index(ls[i+1])\n",
    "        prcw[row][col] += 1\n",
    "        \n",
    "    if(i+2<N and ls[i+2] in C):\n",
    "        col = C.index(ls[i+2])\n",
    "        prcw[row][col] += 1\n",
    "    "
   ]
  },
  {
   "cell_type": "code",
   "execution_count": 9,
   "id": "4b0dbcf6",
   "metadata": {},
   "outputs": [],
   "source": [
    "for i in range(len(prcw)):\n",
    "    denom = sum(prcw[i])\n",
    "    prcw[i] = [j/denom for j in prcw[i]]"
   ]
  },
  {
   "cell_type": "code",
   "execution_count": null,
   "id": "ffe5ed22",
   "metadata": {},
   "outputs": [],
   "source": []
  },
  {
   "cell_type": "code",
   "execution_count": 10,
   "id": "3b9b99bd",
   "metadata": {},
   "outputs": [],
   "source": [
    "# for i in range(len(prcw)):\n",
    "#     for j in range(len(prcw[0])):\n",
    "#         if(V[i]==C[j]):\n",
    "#             prcw[i][j]=1"
   ]
  },
  {
   "cell_type": "code",
   "execution_count": 11,
   "id": "c34d40a0",
   "metadata": {},
   "outputs": [],
   "source": [
    "pc = [cnt[i]/N for i in C]\n",
    "pw = [cnt[i]/N for i in V]"
   ]
  },
  {
   "cell_type": "code",
   "execution_count": 12,
   "id": "69218aa4",
   "metadata": {},
   "outputs": [],
   "source": [
    "mutual_inf = []\n",
    "for i in range(len(prcw)):\n",
    "    temp = []\n",
    "    for j in range(len(prcw[0])):\n",
    "        if(prcw[i][j]==0):\n",
    "            mu = 0\n",
    "        else:\n",
    "            mu = max(0,math.log(prcw[i][j]/pc[j]))\n",
    "        temp.append(mu)\n",
    "    mutual_inf.append(temp)   "
   ]
  },
  {
   "cell_type": "code",
   "execution_count": 13,
   "id": "9d4375a8",
   "metadata": {},
   "outputs": [],
   "source": [
    "PMI_matrix = mutual_inf"
   ]
  },
  {
   "cell_type": "code",
   "execution_count": 16,
   "id": "70d12e32",
   "metadata": {},
   "outputs": [],
   "source": [
    "from sklearn.decomposition import PCA\n",
    "import numpy as np\n",
    "\n",
    "row_means = np.mean(PMI_matrix, axis=1, keepdims=True)\n",
    "col_means = np.mean(PMI_matrix, axis=0, keepdims=True)\n",
    "centered_PMI = PMI_matrix - row_means - col_means + np.mean(PMI_matrix)\n",
    "\n",
    "num_dimensions = 100  # Adjust as needed\n",
    "pca = PCA(n_components=num_dimensions)\n",
    "lower_dim_embedding = pca.fit_transform(centered_PMI)"
   ]
  },
  {
   "cell_type": "code",
   "execution_count": 17,
   "id": "36c153d3",
   "metadata": {},
   "outputs": [
    {
     "data": {
      "text/plain": [
       "(5000, 100)"
      ]
     },
     "execution_count": 17,
     "metadata": {},
     "output_type": "execute_result"
    }
   ],
   "source": [
    "lower_dim_embedding.shape"
   ]
  },
  {
   "cell_type": "code",
   "execution_count": null,
   "id": "b0e7be4c",
   "metadata": {},
   "outputs": [],
   "source": []
  },
  {
   "cell_type": "code",
   "execution_count": 18,
   "id": "23bdeee4",
   "metadata": {},
   "outputs": [
    {
     "data": {
      "text/html": [
       "<style>#sk-container-id-1 {color: black;background-color: white;}#sk-container-id-1 pre{padding: 0;}#sk-container-id-1 div.sk-toggleable {background-color: white;}#sk-container-id-1 label.sk-toggleable__label {cursor: pointer;display: block;width: 100%;margin-bottom: 0;padding: 0.3em;box-sizing: border-box;text-align: center;}#sk-container-id-1 label.sk-toggleable__label-arrow:before {content: \"▸\";float: left;margin-right: 0.25em;color: #696969;}#sk-container-id-1 label.sk-toggleable__label-arrow:hover:before {color: black;}#sk-container-id-1 div.sk-estimator:hover label.sk-toggleable__label-arrow:before {color: black;}#sk-container-id-1 div.sk-toggleable__content {max-height: 0;max-width: 0;overflow: hidden;text-align: left;background-color: #f0f8ff;}#sk-container-id-1 div.sk-toggleable__content pre {margin: 0.2em;color: black;border-radius: 0.25em;background-color: #f0f8ff;}#sk-container-id-1 input.sk-toggleable__control:checked~div.sk-toggleable__content {max-height: 200px;max-width: 100%;overflow: auto;}#sk-container-id-1 input.sk-toggleable__control:checked~label.sk-toggleable__label-arrow:before {content: \"▾\";}#sk-container-id-1 div.sk-estimator input.sk-toggleable__control:checked~label.sk-toggleable__label {background-color: #d4ebff;}#sk-container-id-1 div.sk-label input.sk-toggleable__control:checked~label.sk-toggleable__label {background-color: #d4ebff;}#sk-container-id-1 input.sk-hidden--visually {border: 0;clip: rect(1px 1px 1px 1px);clip: rect(1px, 1px, 1px, 1px);height: 1px;margin: -1px;overflow: hidden;padding: 0;position: absolute;width: 1px;}#sk-container-id-1 div.sk-estimator {font-family: monospace;background-color: #f0f8ff;border: 1px dotted black;border-radius: 0.25em;box-sizing: border-box;margin-bottom: 0.5em;}#sk-container-id-1 div.sk-estimator:hover {background-color: #d4ebff;}#sk-container-id-1 div.sk-parallel-item::after {content: \"\";width: 100%;border-bottom: 1px solid gray;flex-grow: 1;}#sk-container-id-1 div.sk-label:hover label.sk-toggleable__label {background-color: #d4ebff;}#sk-container-id-1 div.sk-serial::before {content: \"\";position: absolute;border-left: 1px solid gray;box-sizing: border-box;top: 0;bottom: 0;left: 50%;z-index: 0;}#sk-container-id-1 div.sk-serial {display: flex;flex-direction: column;align-items: center;background-color: white;padding-right: 0.2em;padding-left: 0.2em;position: relative;}#sk-container-id-1 div.sk-item {position: relative;z-index: 1;}#sk-container-id-1 div.sk-parallel {display: flex;align-items: stretch;justify-content: center;background-color: white;position: relative;}#sk-container-id-1 div.sk-item::before, #sk-container-id-1 div.sk-parallel-item::before {content: \"\";position: absolute;border-left: 1px solid gray;box-sizing: border-box;top: 0;bottom: 0;left: 50%;z-index: -1;}#sk-container-id-1 div.sk-parallel-item {display: flex;flex-direction: column;z-index: 1;position: relative;background-color: white;}#sk-container-id-1 div.sk-parallel-item:first-child::after {align-self: flex-end;width: 50%;}#sk-container-id-1 div.sk-parallel-item:last-child::after {align-self: flex-start;width: 50%;}#sk-container-id-1 div.sk-parallel-item:only-child::after {width: 0;}#sk-container-id-1 div.sk-dashed-wrapped {border: 1px dashed gray;margin: 0 0.4em 0.5em 0.4em;box-sizing: border-box;padding-bottom: 0.4em;background-color: white;}#sk-container-id-1 div.sk-label label {font-family: monospace;font-weight: bold;display: inline-block;line-height: 1.2em;}#sk-container-id-1 div.sk-label-container {text-align: center;}#sk-container-id-1 div.sk-container {/* jupyter's `normalize.less` sets `[hidden] { display: none; }` but bootstrap.min.css set `[hidden] { display: none !important; }` so we also need the `!important` here to be able to override the default hidden behavior on the sphinx rendered scikit-learn.org. See: https://github.com/scikit-learn/scikit-learn/issues/21755 */display: inline-block !important;position: relative;}#sk-container-id-1 div.sk-text-repr-fallback {display: none;}</style><div id=\"sk-container-id-1\" class=\"sk-top-container\"><div class=\"sk-text-repr-fallback\"><pre>KNeighborsClassifier(n_neighbors=2)</pre><b>In a Jupyter environment, please rerun this cell to show the HTML representation or trust the notebook. <br />On GitHub, the HTML representation is unable to render, please try loading this page with nbviewer.org.</b></div><div class=\"sk-container\" hidden><div class=\"sk-item\"><div class=\"sk-estimator sk-toggleable\"><input class=\"sk-toggleable__control sk-hidden--visually\" id=\"sk-estimator-id-1\" type=\"checkbox\" checked><label for=\"sk-estimator-id-1\" class=\"sk-toggleable__label sk-toggleable__label-arrow\">KNeighborsClassifier</label><div class=\"sk-toggleable__content\"><pre>KNeighborsClassifier(n_neighbors=2)</pre></div></div></div></div></div>"
      ],
      "text/plain": [
       "KNeighborsClassifier(n_neighbors=2)"
      ]
     },
     "execution_count": 18,
     "metadata": {},
     "output_type": "execute_result"
    }
   ],
   "source": [
    "from sklearn.neighbors import KNeighborsClassifier\n",
    "neigh = KNeighborsClassifier(n_neighbors=2)\n",
    "neigh.fit(lower_dim_embedding,[1 for _ in range(5000)])"
   ]
  },
  {
   "cell_type": "code",
   "execution_count": 19,
   "id": "b84d6a8f",
   "metadata": {},
   "outputs": [],
   "source": [
    "# samp = random.choices([i for i in range(len(V))],k=25)\n",
    "# for s in samp:\n",
    "#     nn = neigh.kneighbors([lower_dim_embedding[s]],return_distance = False)\n",
    "#     #print(nn)\n",
    "#     print(\"Closest match for \" +V[s] +\" is \"+V[nn[0][1]])\n",
    "    "
   ]
  },
  {
   "cell_type": "code",
   "execution_count": 20,
   "id": "c883cabd",
   "metadata": {},
   "outputs": [],
   "source": [
    "from sklearn.cluster import KMeans\n",
    "import numpy as np\n",
    "\n",
    "kmeans = KMeans(n_clusters=100, random_state=0, n_init=\"auto\").fit(lower_dim_embedding)"
   ]
  },
  {
   "cell_type": "code",
   "execution_count": 21,
   "id": "7fc9e84e",
   "metadata": {},
   "outputs": [],
   "source": [
    "labels = kmeans.predict(lower_dim_embedding)"
   ]
  },
  {
   "cell_type": "code",
   "execution_count": 22,
   "id": "be38a815",
   "metadata": {},
   "outputs": [],
   "source": [
    "clusters = {}\n",
    "n = 0\n",
    "for item in labels:\n",
    "    if item in clusters:\n",
    "        clusters[item].append(V[n])\n",
    "    else:\n",
    "        clusters[item] = [V[n]]\n",
    "    n +=1"
   ]
  },
  {
   "cell_type": "code",
   "execution_count": 29,
   "id": "92e0ac26",
   "metadata": {},
   "outputs": [
    {
     "name": "stdout",
     "output_type": "stream",
     "text": [
      "Cluster 95\n",
      "['new', 'city', 'york', 'washington', 'island', 'central', 'st', 'county', 'club', 'district', 'reported', 'hospital', 'chicago', 'park', 'london', 'post', 'governor', 'bank', 'providence', 'editor', 'louis', 'texas', 'san', 'california', 'located', 'boston', 'dallas', 'co', 'los', 'issued', 'philadelphia', 'moscow', 'georgia', 'pennsylvania', 'orleans', 'manchester', 'tour', 'illinois', 'downtown', 'mayor', 'attended', 'atlanta', 'factory', 'dc', 'kansas', 'yankees', 'greenwich', 'neighboring', 'portland', 'memorial', 'maryland', 'madison', 'capitol', 'miami', 'port', 'detroit', 'citys', 'missouri', 'warwick']\n"
     ]
    }
   ],
   "source": [
    "item = 95\n",
    "print(\"Cluster \"+ str(item))\n",
    "print(list(clusters[item]))"
   ]
  },
  {
   "cell_type": "code",
   "execution_count": null,
   "id": "3793fbff",
   "metadata": {},
   "outputs": [],
   "source": []
  }
 ],
 "metadata": {
  "kernelspec": {
   "display_name": "Python 3 (ipykernel)",
   "language": "python",
   "name": "python3"
  },
  "language_info": {
   "codemirror_mode": {
    "name": "ipython",
    "version": 3
   },
   "file_extension": ".py",
   "mimetype": "text/x-python",
   "name": "python",
   "nbconvert_exporter": "python",
   "pygments_lexer": "ipython3",
   "version": "3.11.5"
  }
 },
 "nbformat": 4,
 "nbformat_minor": 5
}
